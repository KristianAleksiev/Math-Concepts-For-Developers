{
 "cells": [
  {
   "cell_type": "code",
   "execution_count": 29,
   "id": "e607f626",
   "metadata": {},
   "outputs": [],
   "source": [
    "%matplotlib inline\n",
    "import matplotlib.pyplot as plt\n",
    "import sympy\n",
    "import math\n",
    "import numpy as np"
   ]
  },
  {
   "cell_type": "markdown",
   "id": "f8bfc5fa",
   "metadata": {},
   "source": [
    "parity(n) => \"Odd\"\n",
    "if n === 1 mod 2 or\n",
    "if n = 2k + 1, (-1) where n, k are whole numbers (n, k => Z)\n"
   ]
  },
  {
   "cell_type": "markdown",
   "id": "8f18427d",
   "metadata": {},
   "source": [
    "parity(n) =>\"Even\" \n",
    "if n mod === 0, n === 0 mod 2 or\n",
    "if n = 2k where n, k are whole numbers (n, k => Z)\n"
   ]
  },
  {
   "cell_type": "markdown",
   "id": "ddec11ce",
   "metadata": {},
   "source": [
    "m, n - odd\n",
    "m * n\n",
    "mn = (2p + 1)(2q + 1) = 4pq + 2p + 2q + 1 = 2(2pq + p + q) + 1\n",
    "2pq + p + q = t (equal by definition)\n",
    "mn = 2t + 1 => odd"
   ]
  },
  {
   "cell_type": "markdown",
   "id": "0d5df494",
   "metadata": {},
   "source": [
    "m + n\n",
    "m + n = 2p + 1 + 2q + 1 = 2(p + q + 1) = 2t => even "
   ]
  },
  {
   "cell_type": "markdown",
   "id": "9de5f4f1",
   "metadata": {},
   "source": [
    "## Equations with sympy\n"
   ]
  },
  {
   "cell_type": "code",
   "execution_count": 8,
   "id": "98687795",
   "metadata": {},
   "outputs": [
    {
     "data": {
      "text/plain": [
       "[{a: -(b*x + c)/x**2}]"
      ]
     },
     "execution_count": 8,
     "metadata": {},
     "output_type": "execute_result"
    }
   ],
   "source": [
    "#In this case the equation result is returned for \"a\"\n",
    "a, b, c = sympy.symbols(\"a b c\")\n",
    "x = sympy.symbols(\"x\")\n",
    "sympy.solve(a * x ** 2 + b * x + c)\n"
   ]
  },
  {
   "cell_type": "markdown",
   "id": "3cfa1467",
   "metadata": {},
   "source": [
    "### In this case the equation result is returned for \"X\""
   ]
  },
  {
   "cell_type": "code",
   "execution_count": 14,
   "id": "6f339f36",
   "metadata": {},
   "outputs": [
    {
     "data": {
      "image/png": "[encoded data removed]",
      "text/latex": [
       "$\\displaystyle \\left[ \\frac{- b + \\sqrt{- 4 a c + b^{2}}}{2 a}, \\  - \\frac{b + \\sqrt{- 4 a c + b^{2}}}{2 a}\\right]$"
      ],
      "text/plain": [
       "⎡        _____________   ⎛       _____________⎞ ⎤\n",
       "⎢       ╱           2    ⎜      ╱           2 ⎟ ⎥\n",
       "⎢-b + ╲╱  -4⋅a⋅c + b    -⎝b + ╲╱  -4⋅a⋅c + b  ⎠ ⎥\n",
       "⎢─────────────────────, ────────────────────────⎥\n",
       "⎣         2⋅a                     2⋅a           ⎦"
      ]
     },
     "execution_count": 14,
     "metadata": {},
     "output_type": "execute_result"
    }
   ],
   "source": [
    "sympy.init_printing()\n",
    "a, b, c = sympy.symbols(\"a b c\")\n",
    "x = sympy.symbols(\"x\")\n",
    "sympy.solve(a * x ** 2 + b * x + c, x)\n"
   ]
  },
  {
   "cell_type": "code",
   "execution_count": 16,
   "id": "d5dfd7fc",
   "metadata": {},
   "outputs": [
    {
     "data": {
      "image/png": "[encoded data removed]",
      "text/latex": [
       "$\\displaystyle \\left[ - \\frac{b}{a}\\right]$"
      ],
      "text/plain": [
       "⎡-b ⎤\n",
       "⎢───⎥\n",
       "⎣ a ⎦"
      ]
     },
     "execution_count": 16,
     "metadata": {},
     "output_type": "execute_result"
    }
   ],
   "source": [
    "sympy.solve(a * x + b, x)"
   ]
  },
  {
   "cell_type": "markdown",
   "id": "842e2dd3",
   "metadata": {},
   "source": [
    "### Function for quadratic equation\n",
    "$ ax^4 + bx^2 + c$"
   ]
  },
  {
   "cell_type": "code",
   "execution_count": 21,
   "id": "e54c4883",
   "metadata": {},
   "outputs": [],
   "source": [
    "def solve_quadratic_equation_one(a, b, c):\n",
    "    \"\"\"Returns the real solutions of the ax^2 + bx + c\"\"\"\n",
    "    D = b ** 2 - 4 * a * c\n",
    "    if D > 0:\n",
    "        #Two roots\n",
    "        return [\n",
    "            (-b - math.sqrt(D)) / (2 * a),\n",
    "            (-b + math.sqrt(D)) / (2 * a)\n",
    "        ]\n",
    "        \n",
    "    elif D == 0:\n",
    "        #One root\n",
    "        return [-b / (2 * a)]\n",
    "    \n",
    "    #No roots\n",
    "    return []\n",
    "    "
   ]
  },
  {
   "cell_type": "code",
   "execution_count": 27,
   "id": "726bd135",
   "metadata": {},
   "outputs": [],
   "source": [
    "def solve_quadratic_equation(a, b, c):\n",
    "    \"\"\"Returns the real solutions of the ax^2 + bx + c\"\"\"\n",
    "    x = sympy.symbols(\"x\")\n",
    "    solutions = sympy.solve(a* x ** 2 + b * x + c, x)\n",
    "    return solutions"
   ]
  },
  {
   "cell_type": "code",
   "execution_count": 28,
   "id": "159f736b",
   "metadata": {},
   "outputs": [
    {
     "name": "stdout",
     "output_type": "stream",
     "text": [
      "[-1, 2]\n",
      "[4]\n",
      "[-1/2 - sqrt(3)*I/2, -1/2 + sqrt(3)*I/2]\n"
     ]
    }
   ],
   "source": [
    "print(solve_quadratic_equation(1, -1, -2)) # [-1.0, 2.0]\n",
    "print(solve_quadratic_equation(1, -8, 16)) # [4.0]\n",
    "print(solve_quadratic_equation(1, 1, 1)) # []"
   ]
  },
  {
   "cell_type": "markdown",
   "id": "f103a927",
   "metadata": {},
   "source": [
    "## Equation of a line - Plotting with matplotlib and numpy"
   ]
  },
  {
   "cell_type": "markdown",
   "id": "a05b2cd5",
   "metadata": {},
   "source": [
    "$y = 2x + 3$"
   ]
  },
  {
   "cell_type": "code",
   "execution_count": 37,
   "id": "716130bb",
   "metadata": {},
   "outputs": [
    {
     "data": {
      "image/png": "[encoded data removed]",
      "text/plain": [
       "<Figure size 432x288 with 1 Axes>"
      ]
     },
     "metadata": {
      "needs_background": "light"
     },
     "output_type": "display_data"
    }
   ],
   "source": [
    "# x = -10\n",
    "# while x < 10:\n",
    "#     x += 0.1\n",
    "#     y = 2 * x + 3\n",
    "\n",
    "x = np.linspace(-10, 10, 200)\n",
    "y_1 = 2 * x + 3 # FOR EVERY ELEMENT IN X(NP ARAY)\n",
    "y_2 = 2 * x ** 2 - 5\n",
    "\n",
    "plt.plot(x, y_1, c = \"r\")\n",
    "plt.plot(x, y_2, c = \"b\")\n",
    "\n",
    "ax = plt.gca()\n",
    "ax.spines[\"bottom\"].set_position(\"zero\")\n",
    "ax.spines[\"left\"].set_position(\"zero\")\n",
    "ax.spines[\"top\"].set_visible(False)\n",
    "ax.spines[\"right\"].set_visible(False)\n",
    "\n",
    "plt.show()"
   ]
  }
 ],
 "metadata": {
  "kernelspec": {
   "display_name": "Python 3 (ipykernel)",
   "language": "python",
   "name": "python3"
  },
  "language_info": {
   "codemirror_mode": {
    "name": "ipython",
    "version": 3
   },
   "file_extension": ".py",
   "mimetype": "text/x-python",
   "name": "python",
   "nbconvert_exporter": "python",
   "pygments_lexer": "ipython3",
   "version": "3.9.7"
  }
 },
 "nbformat": 4,
 "nbformat_minor": 5
}
