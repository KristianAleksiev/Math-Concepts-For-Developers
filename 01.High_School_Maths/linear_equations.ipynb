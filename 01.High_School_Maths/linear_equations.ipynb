{
 "cells": [
  {
   "cell_type": "markdown",
   "id": "ace9f631",
   "metadata": {},
   "source": [
    "## Linear equation with pre-determined parameters:\n",
    "### The function should return:\n",
    "- If one solution -> return the solution\n",
    "- If no solution -> nan\n",
    "- If all x satisfty the equation -> emty list []\n"
   ]
  },
  {
   "cell_type": "code",
   "execution_count": 3,
   "id": "c673fbac",
   "metadata": {},
   "outputs": [],
   "source": [
    "import math\n",
    "def solve_linear_equation(a, b):\n",
    "    if a == 0:\n",
    "        if b == 0:\n",
    "            return []\n",
    "        return math.nan\n",
    "    return -b / a"
   ]
  },
  {
   "cell_type": "code",
   "execution_count": 5,
   "id": "ccec38db",
   "metadata": {},
   "outputs": [
    {
     "name": "stdout",
     "output_type": "stream",
     "text": [
      "[]\n",
      "nan\n",
      "0.0\n",
      "-1.0\n",
      "2.12\n"
     ]
    }
   ],
   "source": [
    "print(solve_linear_equation(0, 0))\n",
    "print(solve_linear_equation(0, 5))\n",
    "print(solve_linear_equation(5, 0))\n",
    "print(solve_linear_equation(5, 5))\n",
    "print(solve_linear_equation(2.5, -5.3))"
   ]
  },
  {
   "cell_type": "markdown",
   "id": "102aee21",
   "metadata": {},
   "source": [
    "## Systems of linear equations\n",
    "- Values are met and satisfy the conditions in all the equations in the system\n"
   ]
  }
 ],
 "metadata": {
  "kernelspec": {
   "display_name": "Python 3 (ipykernel)",
   "language": "python",
   "name": "python3"
  },
  "language_info": {
   "codemirror_mode": {
    "name": "ipython",
    "version": 3
   },
   "file_extension": ".py",
   "mimetype": "text/x-python",
   "name": "python",
   "nbconvert_exporter": "python",
   "pygments_lexer": "ipython3",
   "version": "3.9.7"
  }
 },
 "nbformat": 4,
 "nbformat_minor": 5
}
