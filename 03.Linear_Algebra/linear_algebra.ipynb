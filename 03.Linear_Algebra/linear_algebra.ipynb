{
 "cells": [
  {
   "cell_type": "code",
   "execution_count": 1,
   "id": "adb3eba6",
   "metadata": {},
   "outputs": [],
   "source": [
    "%matplotlib inline"
   ]
  },
  {
   "cell_type": "code",
   "execution_count": 4,
   "id": "8b54105a",
   "metadata": {},
   "outputs": [],
   "source": [
    "import numpy as np\n",
    "import matplotlib.pyplot as plt"
   ]
  },
  {
   "cell_type": "markdown",
   "id": "c9d91d7e",
   "metadata": {},
   "source": [
    "## Linear Algebra"
   ]
  },
  {
   "cell_type": "markdown",
   "id": "37f017bd",
   "metadata": {},
   "source": [
    "### Matrices"
   ]
  },
  {
   "cell_type": "code",
   "execution_count": 4,
   "id": "71dd34aa",
   "metadata": {},
   "outputs": [],
   "source": [
    "A = np.array([\n",
    "    [2, 3, 7],\n",
    "    [8, 9, 1]\n",
    "])\n",
    "B = np.array([\n",
    "    [1, -3, 0],\n",
    "    [2, -4, 1]\n",
    "])"
   ]
  },
  {
   "cell_type": "code",
   "execution_count": 5,
   "id": "b72b0eb3",
   "metadata": {},
   "outputs": [
    {
     "data": {
      "text/plain": [
       "(array([[2, 3, 7],\n",
       "        [8, 9, 1]]),\n",
       " array([[ 1, -3,  0],\n",
       "        [ 2, -4,  1]]))"
      ]
     },
     "execution_count": 5,
     "metadata": {},
     "output_type": "execute_result"
    }
   ],
   "source": [
    "A, B"
   ]
  },
  {
   "cell_type": "code",
   "execution_count": 6,
   "id": "a96de999",
   "metadata": {},
   "outputs": [
    {
     "data": {
      "text/plain": [
       "array([[ 3,  0,  7],\n",
       "       [10,  5,  2]])"
      ]
     },
     "execution_count": 6,
     "metadata": {},
     "output_type": "execute_result"
    }
   ],
   "source": [
    "A + B"
   ]
  },
  {
   "cell_type": "code",
   "execution_count": 7,
   "id": "5788b493",
   "metadata": {},
   "outputs": [
    {
     "data": {
      "text/plain": [
       "array([[  2,  -9,   0],\n",
       "       [ 16, -36,   1]])"
      ]
     },
     "execution_count": 7,
     "metadata": {},
     "output_type": "execute_result"
    }
   ],
   "source": [
    "A * B # Element * element, Hadamar product"
   ]
  },
  {
   "cell_type": "code",
   "execution_count": 8,
   "id": "40f8f71b",
   "metadata": {},
   "outputs": [
    {
     "ename": "ValueError",
     "evalue": "matmul: Input operand 1 has a mismatch in its core dimension 0, with gufunc signature (n?,k),(k,m?)->(n?,m?) (size 2 is different from 3)",
     "output_type": "error",
     "traceback": [
      "\u001b[1;31m---------------------------------------------------------------------------\u001b[0m",
      "\u001b[1;31mValueError\u001b[0m                                Traceback (most recent call last)",
      "\u001b[1;32m~\\AppData\\Local\\Temp\\ipykernel_20376\\228986960.py\u001b[0m in \u001b[0;36m<module>\u001b[1;34m\u001b[0m\n\u001b[1;32m----> 1\u001b[1;33m \u001b[0mA\u001b[0m \u001b[1;33m@\u001b[0m \u001b[0mB\u001b[0m\u001b[1;33m\u001b[0m\u001b[1;33m\u001b[0m\u001b[0m\n\u001b[0m",
      "\u001b[1;31mValueError\u001b[0m: matmul: Input operand 1 has a mismatch in its core dimension 0, with gufunc signature (n?,k),(k,m?)->(n?,m?) (size 2 is different from 3)"
     ]
    }
   ],
   "source": [
    "A @ B"
   ]
  },
  {
   "cell_type": "code",
   "execution_count": 9,
   "id": "f125271b",
   "metadata": {},
   "outputs": [
    {
     "data": {
      "text/plain": [
       "array([[ 1,  2],\n",
       "       [-3, -4],\n",
       "       [ 0,  1]])"
      ]
     },
     "execution_count": 9,
     "metadata": {},
     "output_type": "execute_result"
    }
   ],
   "source": [
    "B.T # Transposition of B"
   ]
  },
  {
   "cell_type": "code",
   "execution_count": 11,
   "id": "9a3be5eb",
   "metadata": {},
   "outputs": [
    {
     "data": {
      "text/plain": [
       "array([[ -7,  -1],\n",
       "       [-19, -19]])"
      ]
     },
     "execution_count": 11,
     "metadata": {},
     "output_type": "execute_result"
    }
   ],
   "source": [
    "A @ B.T"
   ]
  },
  {
   "cell_type": "markdown",
   "id": "dd31f244",
   "metadata": {},
   "source": [
    "## Plotting a vector function"
   ]
  },
  {
   "cell_type": "code",
   "execution_count": 38,
   "id": "319a5bb2",
   "metadata": {},
   "outputs": [],
   "source": [
    "def plot_vectors(vectors, colors):\n",
    "    \"\"\"Plots vectors on the x,y plane. The vector is specified in the format [start_x, start_y, end_x, end_y]\"\"\"\n",
    "    vectors = np.array(vectors)\n",
    "    \n",
    "    start_x = vectors[:, 0]\n",
    "    start_y = vectors[:, 1]\n",
    "    end_x = vectors[:, 2] - start_x\n",
    "    end_y = vectors[:, 3] - start_y\n",
    " \n",
    "    plt.quiver(start_x, start_y, end_x, end_y, color=colors, units=\"xy\", scale=1)\n",
    "    print([vector[0] for vector in vectors] + [vector[2] for vector in vectors])\n",
    "    plt.xlim(-5, 5)\n",
    "    plt.ylim(-5, 5)\n",
    "    \n",
    "    plt.gca().set_aspect(\"equal\")\n",
    "    plt.show()"
   ]
  },
  {
   "cell_type": "code",
   "execution_count": 39,
   "id": "e38c4d3b",
   "metadata": {},
   "outputs": [
    {
     "name": "stdout",
     "output_type": "stream",
     "text": [
      "[0, 2]\n"
     ]
    },
    {
     "data": {
      "image/png": "[encoded data removed]",
      "text/plain": [
       "<Figure size 640x480 with 1 Axes>"
      ]
     },
     "metadata": {},
     "output_type": "display_data"
    },
    {
     "name": "stdout",
     "output_type": "stream",
     "text": [
      "[0, 0, 1, 0]\n"
     ]
    },
    {
     "data": {
      "image/png": "[encoded data removed]",
      "text/plain": [
       "<Figure size 640x480 with 1 Axes>"
      ]
     },
     "metadata": {},
     "output_type": "display_data"
    }
   ],
   "source": [
    "plot_vectors([[0, 0, 2, 3]], [\"red\"])\n",
    "plot_vectors([[0, 0, 1, 0], [0, 0, 0, 1]], [\"red\", \"blue\"])"
   ]
  },
  {
   "cell_type": "markdown",
   "id": "19f872b0",
   "metadata": {},
   "source": [
    "## Linear combination - coefficients of transformation"
   ]
  },
  {
   "cell_type": "code",
   "execution_count": 36,
   "id": "a20fd540",
   "metadata": {},
   "outputs": [],
   "source": [
    "def find_linear_combination_coefficients(e1, e2, v):\n",
    "    A = np.array([e1, e2]).T\n",
    "    return np.linalg.solve(A, v)"
   ]
  },
  {
   "cell_type": "code",
   "execution_count": 37,
   "id": "0e8b0c2d",
   "metadata": {},
   "outputs": [
    {
     "name": "stdout",
     "output_type": "stream",
     "text": [
      "[0, 0, 0, 1, 0, 3.5]\n"
     ]
    },
    {
     "data": {
      "image/png": "[encoded data removed]",
      "text/plain": [
       "<Figure size 640x480 with 1 Axes>"
      ]
     },
     "metadata": {},
     "output_type": "display_data"
    }
   ],
   "source": [
    "e1, e2 = [[1, 0], [0, 1]]\n",
    "v = [3.5, 8.6]\n",
    "coefficients = find_linear_combination_coefficients(e1, e2, v)\n",
    "plot_vectors([[0, 0, i[0], i[1]] for i in [e1, e2, v]], [\"red\", \"blue\", \"yellow\"])"
   ]
  },
  {
   "cell_type": "code",
   "execution_count": null,
   "id": "5b5defd2",
   "metadata": {},
   "outputs": [],
   "source": []
  }
 ],
 "metadata": {
  "kernelspec": {
   "display_name": "Python 3 (ipykernel)",
   "language": "python",
   "name": "python3"
  },
  "language_info": {
   "codemirror_mode": {
    "name": "ipython",
    "version": 3
   },
   "file_extension": ".py",
   "mimetype": "text/x-python",
   "name": "python",
   "nbconvert_exporter": "python",
   "pygments_lexer": "ipython3",
   "version": "3.9.13"
  }
 },
 "nbformat": 4,
 "nbformat_minor": 5
}
