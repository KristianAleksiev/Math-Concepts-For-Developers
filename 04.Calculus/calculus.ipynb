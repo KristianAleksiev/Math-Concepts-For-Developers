{
 "cells": [
  {
   "cell_type": "markdown",
   "id": "d8322577",
   "metadata": {},
   "source": [
    "## Calculus and functions in detail"
   ]
  },
  {
   "cell_type": "markdown",
   "id": "30b57987",
   "metadata": {},
   "source": [
    "### Limits"
   ]
  },
  {
   "cell_type": "code",
   "execution_count": 6,
   "id": "87080446",
   "metadata": {},
   "outputs": [],
   "source": [
    "%matplotlib inline"
   ]
  },
  {
   "cell_type": "code",
   "execution_count": 7,
   "id": "d2667d90",
   "metadata": {},
   "outputs": [],
   "source": [
    "import numpy as np\n",
    "import matplotlib.pyplot as plt"
   ]
  },
  {
   "cell_type": "code",
   "execution_count": 4,
   "id": "241b6b44",
   "metadata": {},
   "outputs": [],
   "source": [
    "def get_limit(f, a):\n",
    "    epsilon = np.array([10 ** p for p in np.arange(0, -11, -1, dtype = float)])\n",
    "    x = np.append(a - epsilon, (a + epsilon)[::-1])\n",
    "    y = f(x)\n",
    "    return np.array(list(zip(x,y)))"
   ]
  },
  {
   "cell_type": "code",
   "execution_count": 5,
   "id": "35b53920",
   "metadata": {},
   "outputs": [
    {
     "name": "stdout",
     "output_type": "stream",
     "text": [
      "[[ 2.          4.        ]\n",
      " [ 2.9         8.41      ]\n",
      " [ 2.99        8.9401    ]\n",
      " [ 2.999       8.994001  ]\n",
      " [ 2.9999      8.99940001]\n",
      " [ 2.99999     8.99994   ]\n",
      " [ 2.999999    8.999994  ]\n",
      " [ 2.9999999   8.9999994 ]\n",
      " [ 2.99999999  8.99999994]\n",
      " [ 3.          8.99999999]\n",
      " [ 3.          9.        ]\n",
      " [ 3.          9.        ]\n",
      " [ 3.          9.00000001]\n",
      " [ 3.00000001  9.00000006]\n",
      " [ 3.0000001   9.0000006 ]\n",
      " [ 3.000001    9.000006  ]\n",
      " [ 3.00001     9.00006   ]\n",
      " [ 3.0001      9.00060001]\n",
      " [ 3.001       9.006001  ]\n",
      " [ 3.01        9.0601    ]\n",
      " [ 3.1         9.61      ]\n",
      " [ 4.         16.        ]]\n",
      "[[ 1.          4.        ]\n",
      " [ 1.9         9.31      ]\n",
      " [ 1.99        9.9301    ]\n",
      " [ 1.999       9.993001  ]\n",
      " [ 1.9999      9.99930001]\n",
      " [ 1.99999     9.99993   ]\n",
      " [ 1.999999    9.999993  ]\n",
      " [ 1.9999999   9.9999993 ]\n",
      " [ 1.99999999  9.99999993]\n",
      " [ 2.          9.99999999]\n",
      " [ 2.         10.        ]\n",
      " [ 2.         10.        ]\n",
      " [ 2.         10.00000001]\n",
      " [ 2.00000001 10.00000007]\n",
      " [ 2.0000001  10.0000007 ]\n",
      " [ 2.000001   10.000007  ]\n",
      " [ 2.00001    10.00007   ]\n",
      " [ 2.0001     10.00070001]\n",
      " [ 2.001      10.007001  ]\n",
      " [ 2.01       10.0701    ]\n",
      " [ 2.1        10.71      ]\n",
      " [ 3.         18.        ]]\n",
      "[[-1.00000000e+00 -8.41470985e-01]\n",
      " [-1.00000000e-01 -9.98334166e-02]\n",
      " [-1.00000000e-02 -9.99983333e-03]\n",
      " [-1.00000000e-03 -9.99999833e-04]\n",
      " [-1.00000000e-04 -9.99999998e-05]\n",
      " [-1.00000000e-05 -1.00000000e-05]\n",
      " [-1.00000000e-06 -1.00000000e-06]\n",
      " [-1.00000000e-07 -1.00000000e-07]\n",
      " [-1.00000000e-08 -1.00000000e-08]\n",
      " [-1.00000000e-09 -1.00000000e-09]\n",
      " [-1.00000000e-10 -1.00000000e-10]\n",
      " [ 1.00000000e-10  1.00000000e-10]\n",
      " [ 1.00000000e-09  1.00000000e-09]\n",
      " [ 1.00000000e-08  1.00000000e-08]\n",
      " [ 1.00000000e-07  1.00000000e-07]\n",
      " [ 1.00000000e-06  1.00000000e-06]\n",
      " [ 1.00000000e-05  1.00000000e-05]\n",
      " [ 1.00000000e-04  9.99999998e-05]\n",
      " [ 1.00000000e-03  9.99999833e-04]\n",
      " [ 1.00000000e-02  9.99983333e-03]\n",
      " [ 1.00000000e-01  9.98334166e-02]\n",
      " [ 1.00000000e+00  8.41470985e-01]]\n"
     ]
    }
   ],
   "source": [
    "print(get_limit(lambda x: x ** 2, 3))\n",
    "print(get_limit(lambda x: x ** 2 + 3 * x, 2))\n",
    "print(get_limit(lambda x: np.sin(x), 0))"
   ]
  },
  {
   "cell_type": "markdown",
   "id": "265af171",
   "metadata": {},
   "source": [
    "### Derivatives"
   ]
  },
  {
   "cell_type": "markdown",
   "id": "1b1b1a3e",
   "metadata": {},
   "source": [
    "#### $3x^2 + 5x - 8$"
   ]
  },
  {
   "cell_type": "code",
   "execution_count": 8,
   "id": "2f88cfe2",
   "metadata": {},
   "outputs": [
    {
     "name": "stdout",
     "output_type": "stream",
     "text": [
      "23.00000026878024\n"
     ]
    }
   ],
   "source": [
    "def calculate_derivative(f, a, h=1e-7):\n",
    "    return (f(a + h) - f(a)) / h\n",
    "print(calculate_derivative(lambda x: 3 * x ** 2 + 5 * x - 8, 3))"
   ]
  },
  {
   "cell_type": "code",
   "execution_count": 14,
   "id": "a3b30ef4",
   "metadata": {},
   "outputs": [],
   "source": [
    "all_h = 10.0 ** np.arange(0, -11, -1)"
   ]
  },
  {
   "cell_type": "code",
   "execution_count": 16,
   "id": "a8cc1710",
   "metadata": {},
   "outputs": [
    {
     "data": {
      "text/plain": [
       "[(1.0, 26.0),\n",
       " (0.1, 23.300000000000054),\n",
       " (0.01, 23.029999999999262),\n",
       " (0.001, 23.00300000000277),\n",
       " (0.0001, 23.0003000000778),\n",
       " (1e-05, 23.00003000001993),\n",
       " (1e-06, 23.000003004369773),\n",
       " (1e-07, 23.00000026878024),\n",
       " (1e-08, 22.999999771400326),\n",
       " (1e-09, 22.999998350314854),\n",
       " (1e-10, 22.99998413946014)]"
      ]
     },
     "execution_count": 16,
     "metadata": {},
     "output_type": "execute_result"
    }
   ],
   "source": [
    "[(current_h, calculate_derivative(lambda x: 3 * x ** 2 + 5 * x - 8, 3, h=current_h)) for current_h in all_h]"
   ]
  },
  {
   "cell_type": "markdown",
   "id": "a1ae3036",
   "metadata": {},
   "source": [
    "## Calculus\n",
    "### Fundamental theorem of calculus - Differentiation and integration are inverse functions"
   ]
  },
  {
   "cell_type": "code",
   "execution_count": null,
   "id": "a8df17f1",
   "metadata": {},
   "outputs": [],
   "source": []
  },
  {
   "cell_type": "code",
   "execution_count": null,
   "id": "a1b8c2e0",
   "metadata": {},
   "outputs": [],
   "source": []
  },
  {
   "cell_type": "markdown",
   "id": "d5df807b",
   "metadata": {},
   "source": []
  }
 ],
 "metadata": {
  "kernelspec": {
   "display_name": "Python 3 (ipykernel)",
   "language": "python",
   "name": "python3"
  },
  "language_info": {
   "codemirror_mode": {
    "name": "ipython",
    "version": 3
   },
   "file_extension": ".py",
   "mimetype": "text/x-python",
   "name": "python",
   "nbconvert_exporter": "python",
   "pygments_lexer": "ipython3",
   "version": "3.9.13"
  }
 },
 "nbformat": 4,
 "nbformat_minor": 5
}
